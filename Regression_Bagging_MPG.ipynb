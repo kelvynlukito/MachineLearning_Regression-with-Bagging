{
  "nbformat": 4,
  "nbformat_minor": 0,
  "metadata": {
    "colab": {
      "provenance": [],
      "include_colab_link": true
    },
    "kernelspec": {
      "name": "python3",
      "display_name": "Python 3"
    },
    "language_info": {
      "name": "python"
    }
  },
  "cells": [
    {
      "cell_type": "markdown",
      "metadata": {
        "id": "view-in-github",
        "colab_type": "text"
      },
      "source": [
        "<a href=\"https://colab.research.google.com/github/kelvynlukito/MachineLearning_Regression-with-Bagging/blob/main/Regression_Bagging_MPG.ipynb\" target=\"_parent\"><img src=\"https://colab.research.google.com/assets/colab-badge.svg\" alt=\"Open In Colab\"/></a>"
      ]
    },
    {
      "cell_type": "code",
      "execution_count": null,
      "metadata": {
        "id": "cYCNfAq_1Fwx"
      },
      "outputs": [],
      "source": [
        "import matplotlib.pyplot as plt\n",
        "import seaborn as sns\n",
        "import numpy as np\n",
        "import pandas as pd"
      ]
    },
    {
      "cell_type": "code",
      "source": [
        "# Read Dataset\n",
        "df = pd.read_csv(\"/content/autos_mpg.csv\")\n",
        "df = df.drop(['car_name'],axis=1)\n",
        "df"
      ],
      "metadata": {
        "colab": {
          "base_uri": "https://localhost:8080/",
          "height": 424
        },
        "id": "FesiTSJt1WvH",
        "outputId": "18f4a5a0-cb73-4c12-d720-5be09cec4853"
      },
      "execution_count": null,
      "outputs": [
        {
          "output_type": "execute_result",
          "data": {
            "text/plain": [
              "      mpg  cylinders  displacement horsepower  weight  acceleration  \\\n",
              "0    18.0          8         307.0        130    3504          12.0   \n",
              "1    15.0          8         350.0        165    3693          11.5   \n",
              "2    18.0          8         318.0        150    3436          11.0   \n",
              "3    16.0          8         304.0        150    3433          12.0   \n",
              "4    17.0          8         302.0        140    3449          10.5   \n",
              "..    ...        ...           ...        ...     ...           ...   \n",
              "393  27.0          4         140.0         86    2790          15.6   \n",
              "394  44.0          4          97.0         52    2130          24.6   \n",
              "395  32.0          4         135.0         84    2295          11.6   \n",
              "396  28.0          4         120.0         79    2625          18.6   \n",
              "397  31.0          4         119.0         82    2720          19.4   \n",
              "\n",
              "     model_year  origin  \n",
              "0            70       1  \n",
              "1            70       1  \n",
              "2            70       1  \n",
              "3            70       1  \n",
              "4            70       1  \n",
              "..          ...     ...  \n",
              "393          82       1  \n",
              "394          82       2  \n",
              "395          82       1  \n",
              "396          82       1  \n",
              "397          82       1  \n",
              "\n",
              "[398 rows x 8 columns]"
            ],
            "text/html": [
              "\n",
              "  <div id=\"df-d5334f35-6ca2-43a9-92aa-a5c5ca91d129\">\n",
              "    <div class=\"colab-df-container\">\n",
              "      <div>\n",
              "<style scoped>\n",
              "    .dataframe tbody tr th:only-of-type {\n",
              "        vertical-align: middle;\n",
              "    }\n",
              "\n",
              "    .dataframe tbody tr th {\n",
              "        vertical-align: top;\n",
              "    }\n",
              "\n",
              "    .dataframe thead th {\n",
              "        text-align: right;\n",
              "    }\n",
              "</style>\n",
              "<table border=\"1\" class=\"dataframe\">\n",
              "  <thead>\n",
              "    <tr style=\"text-align: right;\">\n",
              "      <th></th>\n",
              "      <th>mpg</th>\n",
              "      <th>cylinders</th>\n",
              "      <th>displacement</th>\n",
              "      <th>horsepower</th>\n",
              "      <th>weight</th>\n",
              "      <th>acceleration</th>\n",
              "      <th>model_year</th>\n",
              "      <th>origin</th>\n",
              "    </tr>\n",
              "  </thead>\n",
              "  <tbody>\n",
              "    <tr>\n",
              "      <th>0</th>\n",
              "      <td>18.0</td>\n",
              "      <td>8</td>\n",
              "      <td>307.0</td>\n",
              "      <td>130</td>\n",
              "      <td>3504</td>\n",
              "      <td>12.0</td>\n",
              "      <td>70</td>\n",
              "      <td>1</td>\n",
              "    </tr>\n",
              "    <tr>\n",
              "      <th>1</th>\n",
              "      <td>15.0</td>\n",
              "      <td>8</td>\n",
              "      <td>350.0</td>\n",
              "      <td>165</td>\n",
              "      <td>3693</td>\n",
              "      <td>11.5</td>\n",
              "      <td>70</td>\n",
              "      <td>1</td>\n",
              "    </tr>\n",
              "    <tr>\n",
              "      <th>2</th>\n",
              "      <td>18.0</td>\n",
              "      <td>8</td>\n",
              "      <td>318.0</td>\n",
              "      <td>150</td>\n",
              "      <td>3436</td>\n",
              "      <td>11.0</td>\n",
              "      <td>70</td>\n",
              "      <td>1</td>\n",
              "    </tr>\n",
              "    <tr>\n",
              "      <th>3</th>\n",
              "      <td>16.0</td>\n",
              "      <td>8</td>\n",
              "      <td>304.0</td>\n",
              "      <td>150</td>\n",
              "      <td>3433</td>\n",
              "      <td>12.0</td>\n",
              "      <td>70</td>\n",
              "      <td>1</td>\n",
              "    </tr>\n",
              "    <tr>\n",
              "      <th>4</th>\n",
              "      <td>17.0</td>\n",
              "      <td>8</td>\n",
              "      <td>302.0</td>\n",
              "      <td>140</td>\n",
              "      <td>3449</td>\n",
              "      <td>10.5</td>\n",
              "      <td>70</td>\n",
              "      <td>1</td>\n",
              "    </tr>\n",
              "    <tr>\n",
              "      <th>...</th>\n",
              "      <td>...</td>\n",
              "      <td>...</td>\n",
              "      <td>...</td>\n",
              "      <td>...</td>\n",
              "      <td>...</td>\n",
              "      <td>...</td>\n",
              "      <td>...</td>\n",
              "      <td>...</td>\n",
              "    </tr>\n",
              "    <tr>\n",
              "      <th>393</th>\n",
              "      <td>27.0</td>\n",
              "      <td>4</td>\n",
              "      <td>140.0</td>\n",
              "      <td>86</td>\n",
              "      <td>2790</td>\n",
              "      <td>15.6</td>\n",
              "      <td>82</td>\n",
              "      <td>1</td>\n",
              "    </tr>\n",
              "    <tr>\n",
              "      <th>394</th>\n",
              "      <td>44.0</td>\n",
              "      <td>4</td>\n",
              "      <td>97.0</td>\n",
              "      <td>52</td>\n",
              "      <td>2130</td>\n",
              "      <td>24.6</td>\n",
              "      <td>82</td>\n",
              "      <td>2</td>\n",
              "    </tr>\n",
              "    <tr>\n",
              "      <th>395</th>\n",
              "      <td>32.0</td>\n",
              "      <td>4</td>\n",
              "      <td>135.0</td>\n",
              "      <td>84</td>\n",
              "      <td>2295</td>\n",
              "      <td>11.6</td>\n",
              "      <td>82</td>\n",
              "      <td>1</td>\n",
              "    </tr>\n",
              "    <tr>\n",
              "      <th>396</th>\n",
              "      <td>28.0</td>\n",
              "      <td>4</td>\n",
              "      <td>120.0</td>\n",
              "      <td>79</td>\n",
              "      <td>2625</td>\n",
              "      <td>18.6</td>\n",
              "      <td>82</td>\n",
              "      <td>1</td>\n",
              "    </tr>\n",
              "    <tr>\n",
              "      <th>397</th>\n",
              "      <td>31.0</td>\n",
              "      <td>4</td>\n",
              "      <td>119.0</td>\n",
              "      <td>82</td>\n",
              "      <td>2720</td>\n",
              "      <td>19.4</td>\n",
              "      <td>82</td>\n",
              "      <td>1</td>\n",
              "    </tr>\n",
              "  </tbody>\n",
              "</table>\n",
              "<p>398 rows × 8 columns</p>\n",
              "</div>\n",
              "      <button class=\"colab-df-convert\" onclick=\"convertToInteractive('df-d5334f35-6ca2-43a9-92aa-a5c5ca91d129')\"\n",
              "              title=\"Convert this dataframe to an interactive table.\"\n",
              "              style=\"display:none;\">\n",
              "        \n",
              "  <svg xmlns=\"http://www.w3.org/2000/svg\" height=\"24px\"viewBox=\"0 0 24 24\"\n",
              "       width=\"24px\">\n",
              "    <path d=\"M0 0h24v24H0V0z\" fill=\"none\"/>\n",
              "    <path d=\"M18.56 5.44l.94 2.06.94-2.06 2.06-.94-2.06-.94-.94-2.06-.94 2.06-2.06.94zm-11 1L8.5 8.5l.94-2.06 2.06-.94-2.06-.94L8.5 2.5l-.94 2.06-2.06.94zm10 10l.94 2.06.94-2.06 2.06-.94-2.06-.94-.94-2.06-.94 2.06-2.06.94z\"/><path d=\"M17.41 7.96l-1.37-1.37c-.4-.4-.92-.59-1.43-.59-.52 0-1.04.2-1.43.59L10.3 9.45l-7.72 7.72c-.78.78-.78 2.05 0 2.83L4 21.41c.39.39.9.59 1.41.59.51 0 1.02-.2 1.41-.59l7.78-7.78 2.81-2.81c.8-.78.8-2.07 0-2.86zM5.41 20L4 18.59l7.72-7.72 1.47 1.35L5.41 20z\"/>\n",
              "  </svg>\n",
              "      </button>\n",
              "      \n",
              "  <style>\n",
              "    .colab-df-container {\n",
              "      display:flex;\n",
              "      flex-wrap:wrap;\n",
              "      gap: 12px;\n",
              "    }\n",
              "\n",
              "    .colab-df-convert {\n",
              "      background-color: #E8F0FE;\n",
              "      border: none;\n",
              "      border-radius: 50%;\n",
              "      cursor: pointer;\n",
              "      display: none;\n",
              "      fill: #1967D2;\n",
              "      height: 32px;\n",
              "      padding: 0 0 0 0;\n",
              "      width: 32px;\n",
              "    }\n",
              "\n",
              "    .colab-df-convert:hover {\n",
              "      background-color: #E2EBFA;\n",
              "      box-shadow: 0px 1px 2px rgba(60, 64, 67, 0.3), 0px 1px 3px 1px rgba(60, 64, 67, 0.15);\n",
              "      fill: #174EA6;\n",
              "    }\n",
              "\n",
              "    [theme=dark] .colab-df-convert {\n",
              "      background-color: #3B4455;\n",
              "      fill: #D2E3FC;\n",
              "    }\n",
              "\n",
              "    [theme=dark] .colab-df-convert:hover {\n",
              "      background-color: #434B5C;\n",
              "      box-shadow: 0px 1px 3px 1px rgba(0, 0, 0, 0.15);\n",
              "      filter: drop-shadow(0px 1px 2px rgba(0, 0, 0, 0.3));\n",
              "      fill: #FFFFFF;\n",
              "    }\n",
              "  </style>\n",
              "\n",
              "      <script>\n",
              "        const buttonEl =\n",
              "          document.querySelector('#df-d5334f35-6ca2-43a9-92aa-a5c5ca91d129 button.colab-df-convert');\n",
              "        buttonEl.style.display =\n",
              "          google.colab.kernel.accessAllowed ? 'block' : 'none';\n",
              "\n",
              "        async function convertToInteractive(key) {\n",
              "          const element = document.querySelector('#df-d5334f35-6ca2-43a9-92aa-a5c5ca91d129');\n",
              "          const dataTable =\n",
              "            await google.colab.kernel.invokeFunction('convertToInteractive',\n",
              "                                                     [key], {});\n",
              "          if (!dataTable) return;\n",
              "\n",
              "          const docLinkHtml = 'Like what you see? Visit the ' +\n",
              "            '<a target=\"_blank\" href=https://colab.research.google.com/notebooks/data_table.ipynb>data table notebook</a>'\n",
              "            + ' to learn more about interactive tables.';\n",
              "          element.innerHTML = '';\n",
              "          dataTable['output_type'] = 'display_data';\n",
              "          await google.colab.output.renderOutput(dataTable, element);\n",
              "          const docLink = document.createElement('div');\n",
              "          docLink.innerHTML = docLinkHtml;\n",
              "          element.appendChild(docLink);\n",
              "        }\n",
              "      </script>\n",
              "    </div>\n",
              "  </div>\n",
              "  "
            ]
          },
          "metadata": {},
          "execution_count": 75
        }
      ]
    },
    {
      "cell_type": "markdown",
      "source": [
        "# **Data Preprocessing**"
      ],
      "metadata": {
        "id": "VHtGWPzu27ql"
      }
    },
    {
      "cell_type": "code",
      "source": [
        "df.describe()"
      ],
      "metadata": {
        "colab": {
          "base_uri": "https://localhost:8080/",
          "height": 300
        },
        "id": "v6fsxN-D1W5q",
        "outputId": "190f2cb4-3e12-4c85-9771-1ed9dfb506e8"
      },
      "execution_count": null,
      "outputs": [
        {
          "output_type": "execute_result",
          "data": {
            "text/plain": [
              "              mpg   cylinders  displacement       weight  acceleration  \\\n",
              "count  398.000000  398.000000    398.000000   398.000000    398.000000   \n",
              "mean    23.514573    5.454774    193.425879  2970.424623     15.568090   \n",
              "std      7.815984    1.701004    104.269838   846.841774      2.757689   \n",
              "min      9.000000    3.000000     68.000000  1613.000000      8.000000   \n",
              "25%     17.500000    4.000000    104.250000  2223.750000     13.825000   \n",
              "50%     23.000000    4.000000    148.500000  2803.500000     15.500000   \n",
              "75%     29.000000    8.000000    262.000000  3608.000000     17.175000   \n",
              "max     46.600000    8.000000    455.000000  5140.000000     24.800000   \n",
              "\n",
              "       model_year      origin  \n",
              "count  398.000000  398.000000  \n",
              "mean    76.010050    1.572864  \n",
              "std      3.697627    0.802055  \n",
              "min     70.000000    1.000000  \n",
              "25%     73.000000    1.000000  \n",
              "50%     76.000000    1.000000  \n",
              "75%     79.000000    2.000000  \n",
              "max     82.000000    3.000000  "
            ],
            "text/html": [
              "\n",
              "  <div id=\"df-48aa60b8-0142-4839-a51f-b5d00547b36d\">\n",
              "    <div class=\"colab-df-container\">\n",
              "      <div>\n",
              "<style scoped>\n",
              "    .dataframe tbody tr th:only-of-type {\n",
              "        vertical-align: middle;\n",
              "    }\n",
              "\n",
              "    .dataframe tbody tr th {\n",
              "        vertical-align: top;\n",
              "    }\n",
              "\n",
              "    .dataframe thead th {\n",
              "        text-align: right;\n",
              "    }\n",
              "</style>\n",
              "<table border=\"1\" class=\"dataframe\">\n",
              "  <thead>\n",
              "    <tr style=\"text-align: right;\">\n",
              "      <th></th>\n",
              "      <th>mpg</th>\n",
              "      <th>cylinders</th>\n",
              "      <th>displacement</th>\n",
              "      <th>weight</th>\n",
              "      <th>acceleration</th>\n",
              "      <th>model_year</th>\n",
              "      <th>origin</th>\n",
              "    </tr>\n",
              "  </thead>\n",
              "  <tbody>\n",
              "    <tr>\n",
              "      <th>count</th>\n",
              "      <td>398.000000</td>\n",
              "      <td>398.000000</td>\n",
              "      <td>398.000000</td>\n",
              "      <td>398.000000</td>\n",
              "      <td>398.000000</td>\n",
              "      <td>398.000000</td>\n",
              "      <td>398.000000</td>\n",
              "    </tr>\n",
              "    <tr>\n",
              "      <th>mean</th>\n",
              "      <td>23.514573</td>\n",
              "      <td>5.454774</td>\n",
              "      <td>193.425879</td>\n",
              "      <td>2970.424623</td>\n",
              "      <td>15.568090</td>\n",
              "      <td>76.010050</td>\n",
              "      <td>1.572864</td>\n",
              "    </tr>\n",
              "    <tr>\n",
              "      <th>std</th>\n",
              "      <td>7.815984</td>\n",
              "      <td>1.701004</td>\n",
              "      <td>104.269838</td>\n",
              "      <td>846.841774</td>\n",
              "      <td>2.757689</td>\n",
              "      <td>3.697627</td>\n",
              "      <td>0.802055</td>\n",
              "    </tr>\n",
              "    <tr>\n",
              "      <th>min</th>\n",
              "      <td>9.000000</td>\n",
              "      <td>3.000000</td>\n",
              "      <td>68.000000</td>\n",
              "      <td>1613.000000</td>\n",
              "      <td>8.000000</td>\n",
              "      <td>70.000000</td>\n",
              "      <td>1.000000</td>\n",
              "    </tr>\n",
              "    <tr>\n",
              "      <th>25%</th>\n",
              "      <td>17.500000</td>\n",
              "      <td>4.000000</td>\n",
              "      <td>104.250000</td>\n",
              "      <td>2223.750000</td>\n",
              "      <td>13.825000</td>\n",
              "      <td>73.000000</td>\n",
              "      <td>1.000000</td>\n",
              "    </tr>\n",
              "    <tr>\n",
              "      <th>50%</th>\n",
              "      <td>23.000000</td>\n",
              "      <td>4.000000</td>\n",
              "      <td>148.500000</td>\n",
              "      <td>2803.500000</td>\n",
              "      <td>15.500000</td>\n",
              "      <td>76.000000</td>\n",
              "      <td>1.000000</td>\n",
              "    </tr>\n",
              "    <tr>\n",
              "      <th>75%</th>\n",
              "      <td>29.000000</td>\n",
              "      <td>8.000000</td>\n",
              "      <td>262.000000</td>\n",
              "      <td>3608.000000</td>\n",
              "      <td>17.175000</td>\n",
              "      <td>79.000000</td>\n",
              "      <td>2.000000</td>\n",
              "    </tr>\n",
              "    <tr>\n",
              "      <th>max</th>\n",
              "      <td>46.600000</td>\n",
              "      <td>8.000000</td>\n",
              "      <td>455.000000</td>\n",
              "      <td>5140.000000</td>\n",
              "      <td>24.800000</td>\n",
              "      <td>82.000000</td>\n",
              "      <td>3.000000</td>\n",
              "    </tr>\n",
              "  </tbody>\n",
              "</table>\n",
              "</div>\n",
              "      <button class=\"colab-df-convert\" onclick=\"convertToInteractive('df-48aa60b8-0142-4839-a51f-b5d00547b36d')\"\n",
              "              title=\"Convert this dataframe to an interactive table.\"\n",
              "              style=\"display:none;\">\n",
              "        \n",
              "  <svg xmlns=\"http://www.w3.org/2000/svg\" height=\"24px\"viewBox=\"0 0 24 24\"\n",
              "       width=\"24px\">\n",
              "    <path d=\"M0 0h24v24H0V0z\" fill=\"none\"/>\n",
              "    <path d=\"M18.56 5.44l.94 2.06.94-2.06 2.06-.94-2.06-.94-.94-2.06-.94 2.06-2.06.94zm-11 1L8.5 8.5l.94-2.06 2.06-.94-2.06-.94L8.5 2.5l-.94 2.06-2.06.94zm10 10l.94 2.06.94-2.06 2.06-.94-2.06-.94-.94-2.06-.94 2.06-2.06.94z\"/><path d=\"M17.41 7.96l-1.37-1.37c-.4-.4-.92-.59-1.43-.59-.52 0-1.04.2-1.43.59L10.3 9.45l-7.72 7.72c-.78.78-.78 2.05 0 2.83L4 21.41c.39.39.9.59 1.41.59.51 0 1.02-.2 1.41-.59l7.78-7.78 2.81-2.81c.8-.78.8-2.07 0-2.86zM5.41 20L4 18.59l7.72-7.72 1.47 1.35L5.41 20z\"/>\n",
              "  </svg>\n",
              "      </button>\n",
              "      \n",
              "  <style>\n",
              "    .colab-df-container {\n",
              "      display:flex;\n",
              "      flex-wrap:wrap;\n",
              "      gap: 12px;\n",
              "    }\n",
              "\n",
              "    .colab-df-convert {\n",
              "      background-color: #E8F0FE;\n",
              "      border: none;\n",
              "      border-radius: 50%;\n",
              "      cursor: pointer;\n",
              "      display: none;\n",
              "      fill: #1967D2;\n",
              "      height: 32px;\n",
              "      padding: 0 0 0 0;\n",
              "      width: 32px;\n",
              "    }\n",
              "\n",
              "    .colab-df-convert:hover {\n",
              "      background-color: #E2EBFA;\n",
              "      box-shadow: 0px 1px 2px rgba(60, 64, 67, 0.3), 0px 1px 3px 1px rgba(60, 64, 67, 0.15);\n",
              "      fill: #174EA6;\n",
              "    }\n",
              "\n",
              "    [theme=dark] .colab-df-convert {\n",
              "      background-color: #3B4455;\n",
              "      fill: #D2E3FC;\n",
              "    }\n",
              "\n",
              "    [theme=dark] .colab-df-convert:hover {\n",
              "      background-color: #434B5C;\n",
              "      box-shadow: 0px 1px 3px 1px rgba(0, 0, 0, 0.15);\n",
              "      filter: drop-shadow(0px 1px 2px rgba(0, 0, 0, 0.3));\n",
              "      fill: #FFFFFF;\n",
              "    }\n",
              "  </style>\n",
              "\n",
              "      <script>\n",
              "        const buttonEl =\n",
              "          document.querySelector('#df-48aa60b8-0142-4839-a51f-b5d00547b36d button.colab-df-convert');\n",
              "        buttonEl.style.display =\n",
              "          google.colab.kernel.accessAllowed ? 'block' : 'none';\n",
              "\n",
              "        async function convertToInteractive(key) {\n",
              "          const element = document.querySelector('#df-48aa60b8-0142-4839-a51f-b5d00547b36d');\n",
              "          const dataTable =\n",
              "            await google.colab.kernel.invokeFunction('convertToInteractive',\n",
              "                                                     [key], {});\n",
              "          if (!dataTable) return;\n",
              "\n",
              "          const docLinkHtml = 'Like what you see? Visit the ' +\n",
              "            '<a target=\"_blank\" href=https://colab.research.google.com/notebooks/data_table.ipynb>data table notebook</a>'\n",
              "            + ' to learn more about interactive tables.';\n",
              "          element.innerHTML = '';\n",
              "          dataTable['output_type'] = 'display_data';\n",
              "          await google.colab.output.renderOutput(dataTable, element);\n",
              "          const docLink = document.createElement('div');\n",
              "          docLink.innerHTML = docLinkHtml;\n",
              "          element.appendChild(docLink);\n",
              "        }\n",
              "      </script>\n",
              "    </div>\n",
              "  </div>\n",
              "  "
            ]
          },
          "metadata": {},
          "execution_count": 76
        }
      ]
    },
    {
      "cell_type": "code",
      "source": [
        "pd.isnull(df).isnull().sum()"
      ],
      "metadata": {
        "colab": {
          "base_uri": "https://localhost:8080/"
        },
        "id": "HnGuvQ3q3Hh0",
        "outputId": "e7abab6c-ad64-49eb-8315-8665f4dee733"
      },
      "execution_count": null,
      "outputs": [
        {
          "output_type": "execute_result",
          "data": {
            "text/plain": [
              "mpg             0\n",
              "cylinders       0\n",
              "displacement    0\n",
              "horsepower      0\n",
              "weight          0\n",
              "acceleration    0\n",
              "model_year      0\n",
              "origin          0\n",
              "dtype: int64"
            ]
          },
          "metadata": {},
          "execution_count": 77
        }
      ]
    },
    {
      "cell_type": "code",
      "source": [
        "pd.isna(df).sum()"
      ],
      "metadata": {
        "colab": {
          "base_uri": "https://localhost:8080/"
        },
        "id": "J-HuSBqp4YQB",
        "outputId": "65f1a15e-44c7-4f74-dcf9-3108fec9524b"
      },
      "execution_count": null,
      "outputs": [
        {
          "output_type": "execute_result",
          "data": {
            "text/plain": [
              "mpg             0\n",
              "cylinders       0\n",
              "displacement    0\n",
              "horsepower      0\n",
              "weight          0\n",
              "acceleration    0\n",
              "model_year      0\n",
              "origin          0\n",
              "dtype: int64"
            ]
          },
          "metadata": {},
          "execution_count": 78
        }
      ]
    },
    {
      "cell_type": "code",
      "source": [
        "# Show data distribution \n",
        "sns.displot(df['mpg'])\n",
        "from statistics import median\n",
        "from statistics import mean\n",
        "from statistics import mode\n",
        "print(df['mpg'].mean())\n",
        "print(df['mpg'].median())\n",
        "print(df['mpg'].mode())"
      ],
      "metadata": {
        "colab": {
          "base_uri": "https://localhost:8080/",
          "height": 440
        },
        "id": "SLellq6P2xGD",
        "outputId": "6b79f3de-16f2-40d4-9adb-44b540f9dac3"
      },
      "execution_count": null,
      "outputs": [
        {
          "output_type": "stream",
          "name": "stdout",
          "text": [
            "23.514572864321607\n",
            "23.0\n",
            "0    13.0\n",
            "dtype: float64\n"
          ]
        },
        {
          "output_type": "display_data",
          "data": {
            "text/plain": [
              "<Figure size 360x360 with 1 Axes>"
            ],
            "image/png": "[encoded data removed]"
          },
          "metadata": {
            "needs_background": "light"
          }
        }
      ]
    },
    {
      "cell_type": "code",
      "source": [
        "# Changes all datatype into numeric\n",
        "from statistics import median\n",
        "df['horsepower'] = pd.to_numeric(df['horsepower'],errors = 'coerce')\n",
        "df['mpg'] = df['mpg'].astype(int)\n",
        "df['displacement'] = df['displacement'].astype(int)\n",
        "df['acceleration'] = df['acceleration'].astype(int)\n",
        "print(df.dtypes)"
      ],
      "metadata": {
        "colab": {
          "base_uri": "https://localhost:8080/"
        },
        "id": "GF-HKuFMZo5n",
        "outputId": "77e5d39c-676f-41dc-caad-02ba0d33adcc"
      },
      "execution_count": null,
      "outputs": [
        {
          "output_type": "stream",
          "name": "stdout",
          "text": [
            "mpg               int64\n",
            "cylinders         int64\n",
            "displacement      int64\n",
            "horsepower      float64\n",
            "weight            int64\n",
            "acceleration      int64\n",
            "model_year        int64\n",
            "origin            int64\n",
            "dtype: object\n"
          ]
        }
      ]
    },
    {
      "cell_type": "markdown",
      "source": [
        "Based on reference https://www.naukri.com/learning/articles/handling-missing-data-mean-median-mode/,\n",
        "1.   Mean-It is preferred if data is numeric and not skewed.\n",
        "2.   Median-It is preferred if data is numeric and skewed.\n",
        "3.   Mode-It is preferred if the data is a string(object or numeric.\n",
        "\n",
        "\n"
      ],
      "metadata": {
        "id": "SCxVGKjl_a1G"
      }
    },
    {
      "cell_type": "code",
      "source": [
        "# Replace all null / NaN / ? value based on the data distribution\n",
        "df['horsepower'] = df['horsepower'].replace(['?'], 'null')\n",
        "pd.isna(df).sum()\n",
        "df['horsepower'] = df['horsepower'].fillna(df['horsepower'].median(),inplace=False)\n",
        "df[['horsepower']]\n",
        "pd.isna(df).sum()"
      ],
      "metadata": {
        "colab": {
          "base_uri": "https://localhost:8080/"
        },
        "id": "pzFtgDT27RD1",
        "outputId": "a1c8ac18-9a6b-4cfd-e4d6-767aa99ea641"
      },
      "execution_count": null,
      "outputs": [
        {
          "output_type": "execute_result",
          "data": {
            "text/plain": [
              "mpg             0\n",
              "cylinders       0\n",
              "displacement    0\n",
              "horsepower      0\n",
              "weight          0\n",
              "acceleration    0\n",
              "model_year      0\n",
              "origin          0\n",
              "dtype: int64"
            ]
          },
          "metadata": {},
          "execution_count": 81
        }
      ]
    },
    {
      "cell_type": "code",
      "source": [
        "# Checking all Variances for each feature\n",
        "df.var()"
      ],
      "metadata": {
        "colab": {
          "base_uri": "https://localhost:8080/"
        },
        "id": "_tbh6VYUCwqz",
        "outputId": "bf1fba93-9b1a-4ac0-9fee-6626603a1a3c"
      },
      "execution_count": null,
      "outputs": [
        {
          "output_type": "execute_result",
          "data": {
            "text/plain": [
              "mpg                 60.101901\n",
              "cylinders            2.893415\n",
              "displacement     10872.441407\n",
              "horsepower        1460.969052\n",
              "weight          717140.990526\n",
              "acceleration         7.528581\n",
              "model_year          13.672443\n",
              "origin               0.643292\n",
              "dtype: float64"
            ]
          },
          "metadata": {},
          "execution_count": 82
        }
      ]
    },
    {
      "cell_type": "code",
      "source": [
        "# Import preprocessing library for normalized all value of the dataset\n",
        "from sklearn.preprocessing import MinMaxScaler\n",
        "scaler = MinMaxScaler()\n",
        "df_norm = df.drop(['mpg'],axis=1)\n",
        "scaled = scaler.fit_transform(df_norm)\n",
        "print(scaled)"
      ],
      "metadata": {
        "colab": {
          "base_uri": "https://localhost:8080/"
        },
        "id": "y5k1d7ia4gS2",
        "outputId": "1a98edd1-3291-4863-b5cc-b83f1aa62be7"
      },
      "execution_count": null,
      "outputs": [
        {
          "output_type": "stream",
          "name": "stdout",
          "text": [
            "[[1.         0.61757106 0.45652174 ... 0.25       0.         0.        ]\n",
            " [1.         0.72868217 0.64673913 ... 0.1875     0.         0.        ]\n",
            " [1.         0.64599483 0.56521739 ... 0.1875     0.         0.        ]\n",
            " ...\n",
            " [0.2        0.17312661 0.20652174 ... 0.1875     1.         0.        ]\n",
            " [0.2        0.13436693 0.17934783 ... 0.625      1.         0.        ]\n",
            " [0.2        0.13178295 0.19565217 ... 0.6875     1.         0.        ]]\n"
          ]
        }
      ]
    },
    {
      "cell_type": "markdown",
      "source": [
        "**Model That Used in this Study Case is SVM, Linear Regression and KNN**"
      ],
      "metadata": {
        "id": "iM30UgOecbl3"
      }
    },
    {
      "cell_type": "code",
      "source": [
        "# Import all support library \n",
        "from sklearn import metrics\n",
        "from sklearn.svm import SVR\n",
        "from sklearn.linear_model import LinearRegression\n",
        "from sklearn.neighbors import KNeighborsRegressor\n",
        "from sklearn.ensemble import BaggingRegressor\n",
        "from sklearn.model_selection import train_test_split\n",
        "from sklearn.datasets import make_regression"
      ],
      "metadata": {
        "id": "rxWzhgiCXYJp"
      },
      "execution_count": null,
      "outputs": []
    },
    {
      "cell_type": "code",
      "source": [
        "# Seperated trining data and testing data\n",
        "X = df.drop(['mpg'],axis=1)\n",
        "y = df['mpg']\n",
        "x_train,x_test,y_train,y_test = train_test_split(X,y,random_state=10,test_size=0.2)\n",
        "x_test.shape"
      ],
      "metadata": {
        "colab": {
          "base_uri": "https://localhost:8080/"
        },
        "id": "GWKkVmIRX1bU",
        "outputId": "0eb48e17-5c46-4e01-f916-f466a87df94c"
      },
      "execution_count": null,
      "outputs": [
        {
          "output_type": "execute_result",
          "data": {
            "text/plain": [
              "(80, 7)"
            ]
          },
          "metadata": {},
          "execution_count": 85
        }
      ]
    },
    {
      "cell_type": "code",
      "source": [
        "\"\"\"\n",
        "X, y = make_regression(n_samples=70, n_features=7,\n",
        "                       n_informative=2, n_targets=1,\n",
        "                       random_state=10, shuffle=False)\n",
        "\n",
        "regr_svr = BaggingRegressor(base_estimator=SVR(),n_estimators=200, random_state=0, max_samples=0.8, oob_score=True).fit(X,y)\n",
        "df_svr = df.drop(['mpg'],axis=1)\n",
        "result_pred = regr_svr.predict(df_svr)\n",
        "# Evaluate the Model\n",
        "evaluation_r2 = metrics.r2_score(df['mpg'],result_pred)\n",
        "print(evaluation)\n",
        "\"\"\""
      ],
      "metadata": {
        "id": "x1rP0Upjlipk",
        "colab": {
          "base_uri": "https://localhost:8080/",
          "height": 89
        },
        "outputId": "bc68a15b-4122-46e9-8646-e8f665ab30f6"
      },
      "execution_count": null,
      "outputs": [
        {
          "output_type": "execute_result",
          "data": {
            "text/plain": [
              "\"\\nX, y = make_regression(n_samples=70, n_features=7,\\n                       n_informative=2, n_targets=1,\\n                       random_state=10, shuffle=False)\\n\\nregr_svr = BaggingRegressor(base_estimator=SVR(),n_estimators=200, random_state=0, max_samples=0.8, oob_score=True).fit(X,y)\\ndf_svr = df.drop(['mpg'],axis=1)\\nresult_pred = regr_svr.predict(df_svr)\\n# Evaluate the Model\\nevaluation_r2 = metrics.r2_score(df['mpg'],result_pred)\\nprint(evaluation)\\n\""
            ],
            "application/vnd.google.colaboratory.intrinsic+json": {
              "type": "string"
            }
          },
          "metadata": {},
          "execution_count": 86
        }
      ]
    },
    {
      "cell_type": "markdown",
      "source": [
        "# **Support Vector Regression**"
      ],
      "metadata": {
        "id": "TCUQsXB_aaVj"
      }
    },
    {
      "cell_type": "code",
      "source": [
        "regr_svr = BaggingRegressor(base_estimator=SVR(),n_estimators=200, random_state=0, max_samples=0.8, oob_score=True).fit(x_train, y_train)\n",
        "df_svr = df.drop(['mpg'],axis=1)\n",
        "result_pred = regr_svr.predict(df_svr)\n",
        "# Evaluate the Model\n",
        "evaluation_r2 = metrics.r2_score(df['mpg'],result_pred)\n",
        "evaluation_MSE = metrics.Mean_Squared_Error(df['mpg'],result_pred)\n",
        "print(f'R2  : {evaluation_r2}')\n",
        "print(f'MSE : {evaluation_MSE}')"
      ],
      "metadata": {
        "colab": {
          "base_uri": "https://localhost:8080/"
        },
        "id": "mkKKh52XQill",
        "outputId": "d8c6d678-cdd6-4261-c935-cc9a61b91306"
      },
      "execution_count": null,
      "outputs": [
        {
          "output_type": "stream",
          "name": "stdout",
          "text": [
            "0.8172038232776109\n"
          ]
        }
      ]
    },
    {
      "cell_type": "code",
      "source": [
        "regr_svr.predict(df_svr)"
      ],
      "metadata": {
        "colab": {
          "base_uri": "https://localhost:8080/"
        },
        "id": "mRAIn8koPhhe",
        "outputId": "e118a9a7-697b-4aa4-fc44-bcc681febcec"
      },
      "execution_count": null,
      "outputs": [
        {
          "output_type": "execute_result",
          "data": {
            "text/plain": [
              "array([18.36574867, 17.1116357 , 18.80524109, 18.8394989 , 18.73643674,\n",
              "       14.00435769, 13.94953898, 14.09252055, 13.736573  , 16.17099169,\n",
              "       17.89408505, 17.64139725, 16.67566419, 21.14310786, 26.82377479,\n",
              "       23.37940894, 23.82101945, 25.21188339, 28.41198611, 30.05836346,\n",
              "       24.68418374, 26.43125637, 26.81229138, 27.72540574, 24.76290315,\n",
              "       13.32294799, 13.96021507, 13.93265125, 13.15798773, 28.41211493,\n",
              "       27.52205282, 27.78009002, 28.90834075, 24.82452589, 18.8991664 ,\n",
              "       19.64220191, 19.84009769, 19.95410873, 14.52470367, 13.65900197,\n",
              "       14.74856073, 15.02132543, 12.92422538, 13.09875905, 12.92068469,\n",
              "       22.33252837, 26.55848823, 19.97785318, 21.02768796, 27.82653415,\n",
              "       28.43620863, 28.77112122, 28.81361763, 30.36885292, 31.04905681,\n",
              "       30.05881574, 29.43430878, 27.45501271, 28.43996337, 27.64458286,\n",
              "       26.55079003, 27.78823067, 14.28179383, 13.88424511, 14.8524442 ,\n",
              "       14.85371305, 17.28560877, 13.26266398, 13.5902099 , 13.70901568,\n",
              "       13.7720147 , 27.14969287, 16.02572497, 15.02780363, 14.25029848,\n",
              "       15.10624393, 22.70371318, 25.85091295, 22.37008671, 28.05544176,\n",
              "       26.66093762, 27.40600201, 25.87822082, 28.20539817, 28.59356822,\n",
              "       14.97344222, 17.28571957, 15.50218626, 15.2837651 , 16.64952777,\n",
              "       12.91167863, 13.6652496 , 13.98271204, 14.44354419, 13.09603868,\n",
              "       12.90609321, 16.35770615, 21.18096935, 20.0069343 , 22.49468672,\n",
              "       21.90829326, 22.84438801, 29.46497617, 12.91203589, 12.94560442,\n",
              "       13.2573804 , 13.59211508, 23.67027995, 27.46723264, 26.60721253,\n",
              "       26.78171486, 28.4721782 , 27.23857045, 26.07866457, 27.55711826,\n",
              "       15.06228347, 14.2264336 , 29.92158012, 28.22787684, 25.33921109,\n",
              "       23.19391806, 19.05994887, 24.75081563, 23.60966541, 17.28325509,\n",
              "       21.35703193, 23.06179381, 22.82668825, 19.59299881, 29.47293587,\n",
              "       26.27381557, 30.06842214, 25.60885961, 16.70898718, 17.59439908,\n",
              "       17.74987388, 14.84255653, 13.19151115, 13.72802645, 13.32477723,\n",
              "       14.37907233, 27.85769657, 29.40228817, 27.33273198, 30.90882308,\n",
              "       29.17980152, 28.45461041, 28.55739979, 27.66985617, 25.99965379,\n",
              "       26.69981767, 29.19775025, 20.13735231, 18.73702795, 18.93694224,\n",
              "       20.89547049, 13.21671362, 13.75746956, 13.62032508, 13.26146799,\n",
              "       16.02837768, 16.06519734, 16.9954528 , 16.71289915, 21.78428843,\n",
              "       20.40235418, 20.73175657, 28.16521015, 24.89801599, 22.72874194,\n",
              "       25.24487708, 24.43209662, 27.84469921, 25.59969515, 22.27071494,\n",
              "       29.53253958, 20.5172275 , 24.51263355, 22.53561553, 22.62017307,\n",
              "       24.66734472, 30.25466927, 26.19527186, 27.8351638 , 25.38422821,\n",
              "       27.62743188, 27.9633279 , 14.540528  , 14.62631631, 15.67617482,\n",
              "       14.50502645, 20.35984759, 19.47080372, 22.03528364, 21.44861519,\n",
              "       28.99992563, 28.21398218, 29.53265767, 30.25478421, 17.51347973,\n",
              "       17.98703391, 17.52114761, 20.61854137, 30.09947404, 29.24763302,\n",
              "       28.26466809, 25.44396644, 21.07433367, 15.76498261, 20.21519802,\n",
              "       22.68955578, 16.5624188 , 13.92512708, 15.18495311, 16.15293601,\n",
              "       16.7772414 , 28.92507522, 28.24961408, 30.11867799, 27.30079259,\n",
              "       29.49408808, 16.09110771, 15.24617817, 14.83338521, 14.25048588,\n",
              "       18.32577248, 18.98963101, 17.64503115, 18.29817082, 14.44939107,\n",
              "       14.6995371 , 14.07230455, 14.07612348, 29.50771855, 24.13412066,\n",
              "       27.56500694, 24.03352201, 28.89216514, 28.74387984, 29.26629361,\n",
              "       28.04509248, 23.57281481, 25.19224014, 24.35003677, 29.27931113,\n",
              "       30.2211981 , 29.2880995 , 28.79023166, 30.22894571, 19.37389476,\n",
              "       16.89854798, 17.93487693, 18.24874183, 20.96214654, 22.38735679,\n",
              "       24.29560381, 18.96405811, 20.52490847, 19.30180871, 21.59878439,\n",
              "       17.70383667, 19.05813502, 18.89635399, 18.82707182, 20.46381961,\n",
              "       15.096683  , 28.26676125, 25.47659485, 27.30344369, 27.78427152,\n",
              "       25.80081776, 24.08347086, 23.27184092, 26.59071889, 23.47390314,\n",
              "       21.10054988, 23.74247789, 19.15511044, 29.24399098, 28.38969862,\n",
              "       20.25961128, 22.19927813, 23.0189242 , 20.12541657, 19.44632614,\n",
              "       16.31428822, 16.97647521, 15.66808995, 16.35657242, 13.99422631,\n",
              "       15.19022571, 17.75025139, 15.73305059, 29.59739584, 29.33197027,\n",
              "       29.63921552, 24.691449  , 18.34611027, 15.95659201, 20.78227927,\n",
              "       19.00098477, 27.9778546 , 28.29039967, 29.08117716, 28.42627253,\n",
              "       24.65440313, 25.17047745, 24.3957563 , 25.4897294 , 28.33154853,\n",
              "       29.36984067, 28.48039069, 29.08604881, 24.5952487 , 23.16988826,\n",
              "       22.1542948 , 19.30850137, 28.05806465, 24.36856011, 25.63077352,\n",
              "       26.3914893 , 27.55470001, 28.55362809, 23.67119748, 28.55456003,\n",
              "       28.70573624, 27.11864321, 22.59770503, 20.34066607, 29.98305246,\n",
              "       30.05223466, 28.32999923, 30.0113289 , 22.81617518, 26.53433619,\n",
              "       25.92404534, 22.90327646, 27.39258695, 25.9835552 , 24.91581198,\n",
              "       25.01695161, 24.21202631, 26.71836867, 30.44889776, 29.86246341,\n",
              "       30.42388854, 28.81038218, 29.33312182, 28.90678626, 29.27157151,\n",
              "       27.88554165, 28.92661551, 26.79835947, 28.03967804, 27.19065497,\n",
              "       27.9106961 , 26.98866111, 25.08979719, 24.9537901 , 20.48557367,\n",
              "       20.99632485, 22.89926023, 22.69571976, 19.05677096, 16.94529127,\n",
              "       21.67258108, 18.73246871, 25.17614665, 24.91932678, 26.67148172,\n",
              "       25.39609186, 25.73351033, 24.17124003, 23.20592171, 21.91255221,\n",
              "       29.28486972, 29.04669341, 29.3544523 , 28.44652094, 28.45032465,\n",
              "       28.20733382, 27.94260459, 27.68716442, 29.38216121, 29.38216121,\n",
              "       29.21638801, 22.54826197, 21.94260708, 25.27312649, 23.31970014,\n",
              "       24.69659281, 26.82137106, 22.55357411, 23.77311552, 28.42778746,\n",
              "       27.32665909, 25.02514601, 24.32181009])"
            ]
          },
          "metadata": {},
          "execution_count": 93
        }
      ]
    },
    {
      "cell_type": "markdown",
      "source": [
        "# **Linier Regression**"
      ],
      "metadata": {
        "id": "hwhvChEjagKs"
      }
    },
    {
      "cell_type": "code",
      "source": [
        "regr_ln = BaggingRegressor(base_estimator=LinearRegression(),n_estimators=200, random_state=0, max_samples=0.8, oob_score=True).fit(x_train, y_train)\n",
        "df_ln = df.drop(['mpg'],axis=1)\n",
        "result_pred = regr_ln.predict(df_svr)\n",
        "# Evaluate the Model\n",
        "evaluation_r2 = metrics.r2_score(df['mpg'],result_pred)\n",
        "evaluation_MSE = metrics.Mean_Squared_Error(df['mpg'],result_pred)\n",
        "print(f'R2  : {evaluation_r2}')\n",
        "print(f'MSE : {evaluation_MSE}')"
      ],
      "metadata": {
        "colab": {
          "base_uri": "https://localhost:8080/"
        },
        "id": "SrOMmwQgQrXo",
        "outputId": "e9a6fd1d-b6b0-4cbf-aa2e-965092221cbf"
      },
      "execution_count": null,
      "outputs": [
        {
          "output_type": "stream",
          "name": "stdout",
          "text": [
            "0.8172038232776109\n"
          ]
        }
      ]
    },
    {
      "cell_type": "code",
      "source": [
        "regr_ln.predict(df_ln)"
      ],
      "metadata": {
        "colab": {
          "base_uri": "https://localhost:8080/"
        },
        "id": "0ET3qJfJPdlD",
        "outputId": "c71570c5-effa-49b5-da0d-9467760abcdf"
      },
      "execution_count": null,
      "outputs": [
        {
          "output_type": "execute_result",
          "data": {
            "text/plain": [
              "array([15.13931169, 14.09702785, 15.43967359, 15.29668322, 15.06890988,\n",
              "       10.63687477, 10.62671635, 10.60347116, 10.19989014, 13.13615263,\n",
              "       15.45039684, 14.22383897, 14.58730178, 19.36463135, 24.30589763,\n",
              "       19.18386891, 19.57999208, 21.14898736, 25.63989374, 27.44858073,\n",
              "       21.09452919, 22.33002194, 22.90300985, 23.41654318, 20.53707981,\n",
              "        7.62586484,  8.54631924,  8.36804418,  6.4685482 , 26.37149596,\n",
              "       23.52084372, 25.91569254, 24.58243429, 21.65305024, 16.15497624,\n",
              "       17.45931096, 17.80642853, 17.39158997, 11.40429568, 10.38390452,\n",
              "       12.06982133, 11.86874874,  6.62664751,  8.62880746,  5.86445543,\n",
              "       19.7759647 , 23.20835812, 17.7810009 , 18.81466609, 23.42035124,\n",
              "       25.33704758, 25.76396676, 25.3815278 , 29.15996716, 30.11291812,\n",
              "       27.89024708, 25.49509488, 26.41248196, 24.71491219, 26.25797387,\n",
              "       23.6964849 , 24.32570776, 11.69100756, 11.76363018, 12.33341676,\n",
              "       12.97253522, 15.01664952, 10.07364129, 10.37314378, 10.62035719,\n",
              "       11.3074887 , 25.36538085, 13.61827735, 12.75172388, 11.39300307,\n",
              "       12.83780639, 20.32381275, 24.12877087, 20.8648279 , 25.94356282,\n",
              "       23.16899285, 26.28979841, 24.85294729, 24.2593538 , 27.52325329,\n",
              "       13.58569344, 15.74825174, 14.75806614, 13.6751691 , 15.40792759,\n",
              "        8.7571227 , 12.29267985, 12.03490012, 12.4742939 , 10.22529996,\n",
              "        8.90191775, 15.47400313, 19.90213172, 19.59381487, 21.30985713,\n",
              "       21.30033873, 21.00012898, 28.96368425,  8.85940008,  9.03747644,\n",
              "       10.05501535, 10.67970852, 22.27018342, 27.35192758, 24.71947383,\n",
              "       26.47696773, 27.60162816, 24.71072227, 22.74764521, 25.58740414,\n",
              "       14.11468625, 12.16140598, 28.71515357, 26.87100243, 23.60641039,\n",
              "       21.60771588, 17.88772554, 22.95100727, 23.00980131, 16.28742786,\n",
              "       20.37652675, 22.09662581, 22.34261589, 19.82102746, 30.27106998,\n",
              "       24.33006562, 31.13839352, 24.23060588, 16.77523968, 17.92203128,\n",
              "       17.26625621, 13.68858986, 10.66303086, 11.59270285, 10.50171089,\n",
              "       12.90548301, 26.83594728, 28.3294463 , 26.11500398, 32.15386172,\n",
              "       30.06688151, 25.79489436, 27.44166425, 26.89288101, 26.53991822,\n",
              "       27.03255222, 28.18361157, 20.52184153, 19.53571763, 20.70394263,\n",
              "       22.36450547, 11.98167423, 13.23498208, 12.15109248, 11.62109542,\n",
              "       16.57112055, 16.75266222, 18.09028629, 17.27810591, 21.86765455,\n",
              "       20.24138543, 21.00698338, 29.40794618, 24.19008351, 22.98524005,\n",
              "       24.68681607, 25.88328863, 27.54766898, 27.08369895, 21.15138595,\n",
              "       29.30389184, 21.19510805, 24.37569188, 22.98186533, 22.62585561,\n",
              "       24.16387997, 32.27034268, 26.64843961, 28.66770422, 24.93629564,\n",
              "       26.79126371, 28.36615447, 14.59595056, 14.88337997, 16.5787765 ,\n",
              "       15.21643582, 21.29057961, 20.77801225, 22.79121846, 22.78911311,\n",
              "       28.94773047, 28.2081648 , 30.03549406, 33.0019449 , 18.64441353,\n",
              "       20.38247207, 18.92661694, 22.48544236, 30.70919401, 31.32121012,\n",
              "       30.24905988, 25.14732463, 22.18181907, 16.5944967 , 22.00079161,\n",
              "       24.76692944, 17.42967347, 13.68900676, 16.38688297, 17.24931952,\n",
              "       17.96813363, 32.06241191, 28.12313644, 31.91275877, 27.23455364,\n",
              "       32.2534028 , 17.44540658, 16.56784052, 16.0248376 , 14.96461275,\n",
              "       20.51377753, 20.86393737, 19.51974956, 20.96410381, 16.37593572,\n",
              "       15.92002295, 15.62941311, 15.38210236, 30.77381874, 24.99983115,\n",
              "       30.44259184, 24.56335021, 29.1355598 , 28.48594323, 32.25243279,\n",
              "       29.06270201, 26.13350084, 26.07326308, 26.37173101, 32.21961904,\n",
              "       31.22231234, 33.14146627, 32.34426776, 34.22883157, 21.62670506,\n",
              "       19.596081  , 20.32189468, 21.16487988, 23.1937049 , 24.3071861 ,\n",
              "       25.54803519, 21.62024517, 23.39675919, 21.79613006, 23.69592762,\n",
              "       20.29194287, 21.91041605, 21.39865181, 20.32483381, 22.71271456,\n",
              "       17.23473991, 28.98029485, 29.17094657, 30.63316837, 28.292921  ,\n",
              "       29.47894758, 25.56402427, 25.09230946, 29.91449934, 25.45823846,\n",
              "       23.06048945, 25.72479384, 21.31909317, 31.1030629 , 31.96319101,\n",
              "       23.31647119, 25.1899083 , 25.33089913, 23.85932628, 22.5882854 ,\n",
              "       19.70751756, 20.23527921, 19.48758423, 19.95991203, 16.5736842 ,\n",
              "       18.8632869 , 20.64820619, 19.60210634, 32.27955547, 33.49084721,\n",
              "       30.97743108, 26.36237548, 23.29378081, 20.45016303, 25.70173779,\n",
              "       23.00426372, 29.19007875, 29.63971264, 33.59313594, 30.94219748,\n",
              "       26.91509545, 26.21329029, 25.60203181, 27.37313303, 31.61875944,\n",
              "       34.71828177, 30.54859226, 34.02870344, 27.59194194, 26.30680124,\n",
              "       25.79713238, 23.66150318, 31.37860816, 29.77567912, 31.07917701,\n",
              "       31.35425686, 32.52804383, 33.5132675 , 26.43596193, 33.70873614,\n",
              "       32.99837679, 31.50208116, 26.82317543, 25.85130826, 34.93289613,\n",
              "       33.56763726, 33.56694585, 33.78786332, 27.30818097, 30.45420683,\n",
              "       29.59168164, 25.56320743, 32.59298004, 29.27441265, 28.69901472,\n",
              "       28.57541158, 26.96175666, 29.67085003, 36.52646266, 32.91342849,\n",
              "       36.5038924 , 34.73869487, 35.3643414 , 34.75417433, 35.04920056,\n",
              "       30.75271163, 31.96857212, 30.1053179 , 32.19803617, 31.0551387 ,\n",
              "       33.50932873, 32.78527691, 30.63138871, 31.29518077, 26.33978364,\n",
              "       26.0773202 , 28.43206103, 27.85427798, 23.68374832, 23.59649856,\n",
              "       26.02601027, 23.67098115, 29.14933133, 28.80236444, 30.47925883,\n",
              "       29.07301293, 29.87386908, 28.87983287, 27.53530127, 26.99397144,\n",
              "       34.474387  , 35.7218452 , 35.99088033, 32.10031588, 32.19239547,\n",
              "       34.6588928 , 34.27515329, 34.30318023, 35.82380798, 35.82380798,\n",
              "       35.72588452, 26.77203797, 28.30604475, 29.54657014, 28.27003044,\n",
              "       31.45127399, 30.6125298 , 27.30086193, 28.02238422, 34.55717338,\n",
              "       30.91104372, 29.18158877, 28.57884327])"
            ]
          },
          "metadata": {},
          "execution_count": 90
        }
      ]
    },
    {
      "cell_type": "markdown",
      "source": [
        "# **KNN**"
      ],
      "metadata": {
        "id": "Dt7C293Yal3x"
      }
    },
    {
      "cell_type": "code",
      "source": [
        "regr_KNN = BaggingRegressor(base_estimator=KNeighborsRegressor(),n_estimators=200, random_state=0, max_samples=0.8, oob_score=True).fit(x_train, y_train)\n",
        "df_KNN = df.drop(['mpg'],axis=1)\n",
        "result_pred = regr_ln.predict(df_KNN)\n",
        "# Evaluate the Model\n",
        "evaluation_r2 = metrics.r2_score(df['mpg'],result_pred)\n",
        "evaluation_MSE = metrics.Mean_Squared_Error(df['mpg'],result_pred)\n",
        "print(f'R2  : {evaluation_r2}')\n",
        "print(f'MSE : {evaluation_MSE}')"
      ],
      "metadata": {
        "colab": {
          "base_uri": "https://localhost:8080/"
        },
        "id": "LmuLo68vQmaz",
        "outputId": "2c299955-112d-40fa-8bd1-f30bb92d1d64"
      },
      "execution_count": null,
      "outputs": [
        {
          "output_type": "stream",
          "name": "stdout",
          "text": [
            "0.8172038232776109\n"
          ]
        }
      ]
    },
    {
      "cell_type": "code",
      "source": [
        "regr_KNN.predict(df_KNN)"
      ],
      "metadata": {
        "colab": {
          "base_uri": "https://localhost:8080/"
        },
        "id": "BVI89uOHPZZX",
        "outputId": "0e16eec7-47da-4e1d-ded2-c36af2121f9c"
      },
      "execution_count": null,
      "outputs": [
        {
          "output_type": "execute_result",
          "data": {
            "text/plain": [
              "array([17.828, 16.332, 17.976, 17.933, 17.897, 14.565, 14.445, 14.751,\n",
              "       13.93 , 16.033, 16.161, 15.728, 16.975, 20.98 , 26.957, 22.197,\n",
              "       21.799, 25.007, 29.15 , 30.482, 25.387, 27.141, 26.795, 26.353,\n",
              "       24.606, 12.817, 14.619, 14.634, 12.655, 29.15 , 27.874, 27.132,\n",
              "       31.649, 24.431, 19.011, 18.797, 18.754, 19.062, 14.652, 13.29 ,\n",
              "       14.869, 14.492, 12.064, 12.708, 12.082, 22.481, 25.58 , 18.996,\n",
              "       18.674, 28.563, 28.823, 33.706, 32.483, 34.073, 34.018, 30.419,\n",
              "       33.034, 26.636, 29.334, 27.79 , 25.023, 27.684, 14.057, 14.434,\n",
              "       14.625, 14.45 , 16.064, 12.834, 13.45 , 13.406, 13.811, 28.353,\n",
              "       16.672, 14.621, 14.154, 14.453, 23.516, 26.348, 24.845, 30.913,\n",
              "       25.882, 26.161, 26.144, 29.465, 31.052, 14.37 , 16.064, 15.102,\n",
              "       14.419, 16.43 , 12.088, 13.396, 14.698, 14.253, 12.738, 12.059,\n",
              "       15.851, 19.023, 19.009, 20.951, 22.912, 23.542, 32.591, 12.029,\n",
              "       12.016, 13.047, 13.409, 21.366, 26.187, 25.56 , 26.58 , 29.848,\n",
              "       27.842, 26.482, 26.182, 14.423, 14.751, 31.289, 30.613, 26.757,\n",
              "       22.948, 18.374, 25.507, 23.073, 16.049, 19.902, 22.599, 22.24 ,\n",
              "       18.795, 32.393, 26.489, 30.59 , 27.5  , 16.366, 17.735, 18.08 ,\n",
              "       14.728, 12.891, 13.711, 13.035, 14.085, 30.227, 34.351, 26.745,\n",
              "       34.006, 34.314, 30.141, 32.668, 28.487, 26.304, 26.427, 33.767,\n",
              "       19.699, 18.646, 19.199, 18.454, 12.952, 13.607, 13.513, 13.019,\n",
              "       16.566, 16.648, 16.56 , 16.363, 22.845, 19.133, 18.575, 28.788,\n",
              "       26.631, 21.895, 26.244, 26.313, 31.167, 27.418, 22.108, 31.393,\n",
              "       19.361, 25.759, 24.916, 24.265, 25.182, 33.38 , 27.229, 29.107,\n",
              "       27.167, 27.454, 31.642, 14.617, 14.657, 15.782, 14.588, 19.746,\n",
              "       18.907, 20.773, 20.916, 33.279, 29.039, 31.393, 33.38 , 17.888,\n",
              "       18.106, 17.665, 18.814, 31.458, 34.129, 31.209, 27.136, 22.491,\n",
              "       16.009, 23.588, 24.695, 16.48 , 14.568, 14.4  , 16.489, 17.117,\n",
              "       32.512, 30.911, 30.815, 27.245, 31.803, 16.555, 14.645, 14.682,\n",
              "       14.152, 18.216, 19.412, 17.945, 18.223, 14.603, 14.746, 14.809,\n",
              "       14.63 , 31.289, 25.336, 27.077, 25.41 , 32.382, 30.613, 34.932,\n",
              "       30.979, 23.679, 26.93 , 25.466, 35.335, 33.057, 35.433, 33.144,\n",
              "       33.243, 19.068, 16.914, 17.553, 18.657, 18.658, 21.556, 25.971,\n",
              "       19.234, 19.469, 19.772, 21.166, 18.087, 19.804, 18.176, 18.23 ,\n",
              "       18.853, 14.48 , 31.319, 27.529, 27.09 , 29.464, 26.076, 25.079,\n",
              "       23.183, 26.221, 23.288, 20.8  , 24.034, 18.696, 34.326, 33.888,\n",
              "       19.72 , 21.597, 23.25 , 19.655, 19.434, 16.067, 16.955, 15.566,\n",
              "       15.954, 14.734, 14.412, 17.853, 15.61 , 31.196, 35.042, 31.538,\n",
              "       25.812, 18.761, 16.369, 23.26 , 19.612, 32.198, 31.562, 33.538,\n",
              "       33.223, 25.923, 25.484, 25.971, 27.361, 32.29 , 35.411, 32.391,\n",
              "       33.559, 26.3  , 23.411, 22.592, 20.048, 30.824, 26.11 , 27.225,\n",
              "       26.653, 27.858, 34.801, 23.397, 34.801, 36.386, 31.081, 24.931,\n",
              "       23.574, 30.959, 31.773, 33.537, 30.774, 24.962, 26.697, 26.125,\n",
              "       23.331, 26.793, 26.01 , 26.617, 25.849, 25.033, 27.436, 34.151,\n",
              "       30.664, 34.145, 33.129, 35.091, 32.631, 34.825, 31.806, 32.797,\n",
              "       28.348, 31.66 , 26.488, 31.765, 29.822, 26.803, 27.202, 23.751,\n",
              "       22.565, 25.022, 24.4  , 19.37 , 17.476, 21.165, 18.766, 27.269,\n",
              "       27.147, 26.286, 27.226, 26.583, 25.346, 23.432, 21.385, 35.145,\n",
              "       33.17 , 35.07 , 34.948, 34.134, 31.109, 32.119, 28.582, 34.677,\n",
              "       34.677, 34.225, 23.79 , 22.878, 26.579, 20.575, 25.901, 28.441,\n",
              "       24.469, 24.163, 37.378, 27.302, 27.23 , 26.029])"
            ]
          },
          "metadata": {},
          "execution_count": 92
        }
      ]
    }
  ]
}